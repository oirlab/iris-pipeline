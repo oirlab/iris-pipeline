{
 "cells": [
  {
   "cell_type": "markdown",
   "metadata": {},
   "source": [
    "# Example pipeline execution\n",
    "\n",
    "Here is an example of what it takes to configure and run a pipeline with flat-fielding and background subtraction.\n",
    "\n",
    "## Setup CRDS\n",
    "\n",
    "Make sure you have a local checkout of the CRDS cache as explained in the [Getting started page](getting-started.rst). Either run `source setup_local_crds.sh` to setup the enviroment variables in the shell or execute `setup_local_crds.py` for Python. This is needed to point the CRDS software to the CRDS cache. Optionally source this in your shell configuration to automatically set this up."
   ]
  },
  {
   "cell_type": "code",
   "execution_count": 1,
   "metadata": {
    "execution": {
     "iopub.execute_input": "2020-10-09T17:22:06.685016Z",
     "iopub.status.busy": "2020-10-09T17:22:06.684540Z",
     "iopub.status.idle": "2020-10-09T17:22:06.689075Z",
     "shell.execute_reply": "2020-10-09T17:22:06.689554Z"
    }
   },
   "outputs": [],
   "source": [
    "%run ../setup_local_crds.py"
   ]
  },
  {
   "cell_type": "markdown",
   "metadata": {},
   "source": [
    "## Get input simulations\n",
    "Download simulated input FITS files for the IRIS imager from [Figshare](https://figshare.com/articles/TMT_IRIS_test_simulations/9941939). It contains a raw science frame, a raw flat frame and a raw background frame."
   ]
  },
  {
   "cell_type": "code",
   "execution_count": 2,
   "metadata": {
    "execution": {
     "iopub.execute_input": "2020-10-09T17:22:06.693738Z",
     "iopub.status.busy": "2020-10-09T17:22:06.693216Z",
     "iopub.status.idle": "2020-10-09T17:22:24.671171Z",
     "shell.execute_reply": "2020-10-09T17:22:24.670084Z"
    }
   },
   "outputs": [],
   "source": [
    "import urllib.request\n",
    "import zipfile\n",
    "import os.path\n",
    "\n",
    "if not os.path.exists(\"iris_example_data/raw_flat_frame_cal.fits\"):\n",
    "    urllib.request.urlretrieve(\n",
    "        \"https://ndownloader.figshare.com/articles/9941939/versions/1\",\n",
    "        \"iris_example_data.zip\"\n",
    "    )\n",
    "\n",
    "    with zipfile.ZipFile(\"iris_example_data.zip\", 'r') as zip_ref:\n",
    "        zip_ref.extractall(\"iris_example_data\")\n",
    "\n",
    "# this could take a few minutes"
   ]
  },
  {
   "cell_type": "code",
   "execution_count": 3,
   "metadata": {
    "execution": {
     "iopub.execute_input": "2020-10-09T17:22:24.677436Z",
     "iopub.status.busy": "2020-10-09T17:22:24.674230Z",
     "iopub.status.idle": "2020-10-09T17:22:24.819144Z",
     "shell.execute_reply": "2020-10-09T17:22:24.817633Z"
    }
   },
   "outputs": [
    {
     "name": "stdout",
     "output_type": "stream",
     "text": [
      "raw_background_frame_cal.fits  raw_science_frame_sci.fits\r\n",
      "raw_flat_frame_cal.fits\r\n"
     ]
    }
   ],
   "source": [
    "%ls iris_example_data/"
   ]
  },
  {
   "cell_type": "markdown",
   "metadata": {},
   "source": [
    "## Preprocess the flat frame\n",
    "First we need to remove the dark frame from the flat frame and normalize it. A dark frame is already available in the CRDS and the pipeline knows how to retrieve it based on the metadata in the FITS file headers.\n",
    "\n",
    "We can check in the package documentation what are the available pipelines and check the configuration options of the pipeline.ProcessFlatfieldL2 class.\n",
    "\n",
    "We do not need to customize it so we can directly call it from tmtrun and pass the input FITS file:\n",
    "\n",
    "This will pickup the relevant dark frame from the CRDS and process the file:"
   ]
  },
  {
   "cell_type": "code",
   "execution_count": 4,
   "metadata": {
    "execution": {
     "iopub.execute_input": "2020-10-09T17:22:24.826473Z",
     "iopub.status.busy": "2020-10-09T17:22:24.824686Z",
     "iopub.status.idle": "2020-10-09T17:22:30.534350Z",
     "shell.execute_reply": "2020-10-09T17:22:30.533147Z"
    }
   },
   "outputs": [
    {
     "name": "stdout",
     "output_type": "stream",
     "text": [
      "2020-10-09 17:22:27,553 - CRDS - ERROR -  Error determining best reference for 'pars-darkcurrentstep'  =   Unknown reference type 'pars-darkcurrentstep'\r\n",
      "2020-10-09 17:22:27,562 - CRDS - ERROR -  Error determining best reference for 'pars-normalizestep'  =   Unknown reference type 'pars-normalizestep'\r\n",
      "2020-10-09 17:22:27,570 - CRDS - ERROR -  Error determining best reference for 'pars-processflatfieldl2'  =   Unknown reference type 'pars-processflatfieldl2'\r\n",
      "2020-10-09 17:22:27,571 - stpipe.ProcessFlatfieldL2 - INFO - ProcessFlatfieldL2 instance created.\r\n",
      "2020-10-09 17:22:27,572 - stpipe.ProcessFlatfieldL2.dark_current - INFO - DarkCurrentStep instance created.\r\n",
      "2020-10-09 17:22:27,573 - stpipe.ProcessFlatfieldL2.normalize - INFO - NormalizeStep instance created.\r\n",
      "2020-10-09 17:22:27,573 - stpipe - INFO - Hostname: fv-az58\r\n",
      "2020-10-09 17:22:27,573 - stpipe - INFO - OS: Linux\r\n"
     ]
    },
    {
     "name": "stdout",
     "output_type": "stream",
     "text": [
      "2020-10-09 17:22:27,608 - stpipe.ProcessFlatfieldL2 - INFO - Step ProcessFlatfieldL2 running with args ('iris_example_data/raw_flat_frame_cal.fits',).\r\n",
      "2020-10-09 17:22:27,610 - stpipe.ProcessFlatfieldL2 - INFO - Step ProcessFlatfieldL2 parameters are: {'pre_hooks': [], 'post_hooks': [], 'output_file': None, 'output_dir': None, 'output_ext': '.fits', 'output_use_model': False, 'output_use_index': True, 'save_results': True, 'skip': False, 'suffix': None, 'search_output_file': True, 'input_dir': 'iris_example_data', 'steps': {'dark_current': {'pre_hooks': [], 'post_hooks': [], 'output_file': None, 'output_dir': None, 'output_ext': '.fits', 'output_use_model': False, 'output_use_index': True, 'save_results': False, 'skip': False, 'suffix': None, 'search_output_file': True, 'input_dir': 'iris_example_data', 'dark_output': None}, 'normalize': {'pre_hooks': [], 'post_hooks': [], 'output_file': None, 'output_dir': None, 'output_ext': '.fits', 'output_use_model': False, 'output_use_index': True, 'save_results': False, 'skip': False, 'suffix': None, 'search_output_file': True, 'input_dir': 'iris_example_data', 'method': 'median'}}}\r\n"
     ]
    },
    {
     "name": "stdout",
     "output_type": "stream",
     "text": [
      "2020-10-09 17:22:27,799 - stpipe.ProcessFlatfieldL2 - INFO - Prefetching reference files for dataset: 'raw_flat_frame_cal.fits' reftypes = ['dark']\r\n",
      "2020-10-09 17:22:27,806 - stpipe.ProcessFlatfieldL2 - INFO - Prefetch for DARK reference file is '/home/runner/crds_cache/references/tmt/iris/tmt_iris_dark_0001.fits'.\r\n",
      "2020-10-09 17:22:27,807 - stpipe.ProcessFlatfieldL2 - INFO - Starting preprocess flatfield ...\r\n",
      "2020-10-09 17:22:27,807 - stpipe.ProcessFlatfieldL2 - INFO - Processing product iris_example_data/raw_flat_frame\r\n",
      "2020-10-09 17:22:27,807 - stpipe.ProcessFlatfieldL2 - INFO - Working on input iris_example_data/raw_flat_frame_cal.fits ...\r\n"
     ]
    },
    {
     "name": "stdout",
     "output_type": "stream",
     "text": [
      "2020-10-09 17:22:28,024 - stpipe.ProcessFlatfieldL2.dark_current - INFO - Step dark_current running with args (<IRISImageModel(4096, 4096) from raw_flat_frame_cal.fits>,).\r\n",
      "2020-10-09 17:22:28,025 - stpipe.ProcessFlatfieldL2.dark_current - INFO - Step dark_current parameters are: {'pre_hooks': [], 'post_hooks': [], 'output_file': None, 'output_dir': None, 'output_ext': '.fits', 'output_use_model': False, 'output_use_index': True, 'save_results': False, 'skip': False, 'suffix': None, 'search_output_file': True, 'input_dir': 'iris_example_data', 'dark_output': None}\r\n",
      "2020-10-09 17:22:28,044 - stpipe.ProcessFlatfieldL2.dark_current - INFO - Using DARK reference file /home/runner/crds_cache/references/tmt/iris/tmt_iris_dark_0001.fits\r\n"
     ]
    },
    {
     "name": "stdout",
     "output_type": "stream",
     "text": [
      "2020-10-09 17:22:28,627 - stpipe.ProcessFlatfieldL2.dark_current - INFO - Step dark_current done\r\n"
     ]
    },
    {
     "name": "stdout",
     "output_type": "stream",
     "text": [
      "2020-10-09 17:22:28,670 - stpipe.ProcessFlatfieldL2.normalize - INFO - Step normalize running with args (<IRISImageModel(4096, 4096) from raw_flat_frame_cal.fits>,).\r\n",
      "2020-10-09 17:22:28,671 - stpipe.ProcessFlatfieldL2.normalize - INFO - Step normalize parameters are: {'pre_hooks': [], 'post_hooks': [], 'output_file': None, 'output_dir': None, 'output_ext': '.fits', 'output_use_model': False, 'output_use_index': True, 'save_results': False, 'skip': False, 'suffix': None, 'search_output_file': True, 'input_dir': 'iris_example_data', 'method': 'median'}\r\n"
     ]
    },
    {
     "name": "stdout",
     "output_type": "stream",
     "text": [
      "2020-10-09 17:22:29,166 - stpipe.ProcessFlatfieldL2.normalize - INFO - running normalize with method median\r\n"
     ]
    },
    {
     "name": "stdout",
     "output_type": "stream",
     "text": [
      "2020-10-09 17:22:29,201 - stpipe.ProcessFlatfieldL2.normalize - INFO - Step normalize done\r\n",
      "2020-10-09 17:22:29,201 - stpipe.ProcessFlatfieldL2 - INFO - Finished processing product iris_example_data/raw_flat_frame\r\n",
      "2020-10-09 17:22:29,201 - stpipe.ProcessFlatfieldL2 - INFO - ... ending preprocess flatfield\r\n"
     ]
    },
    {
     "name": "stdout",
     "output_type": "stream",
     "text": [
      "2020-10-09 17:22:30,292 - stpipe.ProcessFlatfieldL2 - INFO - Saved model in raw_flat_frame_flat.fits\r\n",
      "2020-10-09 17:22:30,292 - stpipe.ProcessFlatfieldL2 - INFO - Step ProcessFlatfieldL2 done\r\n"
     ]
    }
   ],
   "source": [
    "!tmtrun iris_pipeline.pipeline.ProcessFlatfieldL2 iris_example_data/raw_flat_frame_cal.fits"
   ]
  },
  {
   "cell_type": "markdown",
   "metadata": {},
   "source": [
    "## Configure the image processing pipeline\n",
    "\n",
    "The [`ProcessImagerL2Pipeline`](api/iris_pipeline.pipeline.ProcessImagerL2Pipeline.rst#iris_pipeline.ProcessImagerL2Pipeline) can be configured using a INI-style configuration file:"
   ]
  },
  {
   "cell_type": "code",
   "execution_count": 5,
   "metadata": {
    "execution": {
     "iopub.execute_input": "2020-10-09T17:22:30.541197Z",
     "iopub.status.busy": "2020-10-09T17:22:30.540248Z",
     "iopub.status.idle": "2020-10-09T17:22:30.544377Z",
     "shell.execute_reply": "2020-10-09T17:22:30.543944Z"
    }
   },
   "outputs": [
    {
     "name": "stdout",
     "output_type": "stream",
     "text": [
      "Writing image2_iris.cfg\n"
     ]
    }
   ],
   "source": [
    "%%file image2_iris.cfg\n",
    "\n",
    "\n",
    "name = \"ProcessImagerL2Pipeline\"\n",
    "class = \"iris_pipeline.pipeline.ProcessImagerL2Pipeline\"\n",
    "save_results = True\n",
    "\n",
    "    [steps]\n",
    "      [[bkg_subtract]]\n",
    "      [[assign_wcs]]\n",
    "        skip = True\n",
    "      [[flat_field]]\n",
    "        config_file = flat_field.cfg\n",
    "      [[photom]]\n",
    "        skip = True\n",
    "      [[resample]]\n",
    "        skip = True"
   ]
  },
  {
   "cell_type": "markdown",
   "metadata": {},
   "source": [
    "first we specify that we want to execute the pipeline defined in the pipeline, then we can configure each of the steps, for example skip some of them. Also we can import the configuration of a step from another file, in this case flat_field.cfg:"
   ]
  },
  {
   "cell_type": "code",
   "execution_count": 6,
   "metadata": {
    "execution": {
     "iopub.execute_input": "2020-10-09T17:22:30.548936Z",
     "iopub.status.busy": "2020-10-09T17:22:30.547784Z",
     "iopub.status.idle": "2020-10-09T17:22:30.550465Z",
     "shell.execute_reply": "2020-10-09T17:22:30.550045Z"
    }
   },
   "outputs": [
    {
     "name": "stdout",
     "output_type": "stream",
     "text": [
      "Writing flat_field.cfg\n"
     ]
    }
   ],
   "source": [
    "%%file flat_field.cfg\n",
    "\n",
    "name = \"flat_field\"\n",
    "class = \"jwst.flatfield.FlatFieldStep\"\n",
    "override_flat = 'raw_flat_frame_flat.fits'"
   ]
  },
  {
   "cell_type": "markdown",
   "metadata": {},
   "source": [
    "## Define the input data\n",
    "\n",
    "JWST created a specification for defining how input files should be used by a pipeline, it is a JSON file named an association, see the [JWST documentation](https://jwst-pipeline.readthedocs.io/en/latest/jwst/associations/overview.html).\n",
    "\n",
    "In our example we need to specify a input raw science frame ad a background to be subtracted:"
   ]
  },
  {
   "cell_type": "code",
   "execution_count": 7,
   "metadata": {
    "execution": {
     "iopub.execute_input": "2020-10-09T17:22:30.554590Z",
     "iopub.status.busy": "2020-10-09T17:22:30.553779Z",
     "iopub.status.idle": "2020-10-09T17:22:30.556362Z",
     "shell.execute_reply": "2020-10-09T17:22:30.555924Z"
    }
   },
   "outputs": [
    {
     "name": "stdout",
     "output_type": "stream",
     "text": [
      "Writing association.json\n"
     ]
    }
   ],
   "source": [
    "%%file association.json\n",
    "\n",
    "{\n",
    "    \"asn_rule\": \"Asn_Lv2Image\",\n",
    "    \"asn_pool\": \"pool\",\n",
    "    \"asn_type\": \"image2\",\n",
    "    \"products\": [\n",
    "        {\n",
    "            \"name\": \"test_iris_subtract_bg_flat\",\n",
    "            \"members\": [\n",
    "                {\n",
    "                    \"expname\": \"iris_example_data/raw_science_frame_sci.fits\",\n",
    "                    \"exptype\": \"science\"\n",
    "                },\n",
    "                {\n",
    "                    \"expname\": \"iris_example_data/raw_background_frame_cal.fits\",\n",
    "                    \"exptype\": \"background\"\n",
    "                }\n",
    "            ]\n",
    "        }\n",
    "    ]\n",
    "}"
   ]
  },
  {
   "cell_type": "markdown",
   "metadata": {},
   "source": [
    "## Execute the pipeline from the command line\n",
    "\n",
    "Execute the pipeline from the command line\n",
    "We can use tmtrun from a terminal to execute the pipeline:"
   ]
  },
  {
   "cell_type": "code",
   "execution_count": 8,
   "metadata": {
    "execution": {
     "iopub.execute_input": "2020-10-09T17:22:30.562642Z",
     "iopub.status.busy": "2020-10-09T17:22:30.562025Z",
     "iopub.status.idle": "2020-10-09T17:22:48.496704Z",
     "shell.execute_reply": "2020-10-09T17:22:48.495543Z"
    }
   },
   "outputs": [
    {
     "name": "stdout",
     "output_type": "stream",
     "text": [
      "2020-10-09 17:22:33,876 - CRDS - ERROR -  Error determining best reference for 'pars-backgroundstep'  =   Unknown reference type 'pars-backgroundstep'\r\n"
     ]
    },
    {
     "name": "stdout",
     "output_type": "stream",
     "text": [
      "2020-10-09 17:22:34,224 - CRDS - ERROR -  Error determining best reference for 'pars-assignwcsstep'  =   Unknown reference type 'pars-assignwcsstep'\r\n"
     ]
    },
    {
     "name": "stdout",
     "output_type": "stream",
     "text": [
      "2020-10-09 17:22:34,499 - CRDS - ERROR -  Error determining best reference for 'pars-parsesubarraymapstep'  =   Unknown reference type 'pars-parsesubarraymapstep'\r\n"
     ]
    },
    {
     "name": "stdout",
     "output_type": "stream",
     "text": [
      "2020-10-09 17:22:34,832 - CRDS - ERROR -  Error determining best reference for 'pars-darkcurrentstep'  =   Unknown reference type 'pars-darkcurrentstep'\r\n"
     ]
    },
    {
     "name": "stdout",
     "output_type": "stream",
     "text": [
      "2020-10-09 17:22:35,145 - CRDS - ERROR -  Error determining best reference for 'pars-flatfieldstep'  =   Unknown reference type 'pars-flatfieldstep'\r\n"
     ]
    },
    {
     "name": "stdout",
     "output_type": "stream",
     "text": [
      "2020-10-09 17:22:35,479 - CRDS - ERROR -  Error determining best reference for 'pars-photomstep'  =   Unknown reference type 'pars-photomstep'\r\n"
     ]
    },
    {
     "name": "stdout",
     "output_type": "stream",
     "text": [
      "2020-10-09 17:22:35,766 - CRDS - ERROR -  Error determining best reference for 'pars-resamplestep'  =   Unknown reference type 'pars-resamplestep'\r\n"
     ]
    },
    {
     "name": "stdout",
     "output_type": "stream",
     "text": [
      "2020-10-09 17:22:36,133 - CRDS - ERROR -  Error determining best reference for 'pars-processimagerl2pipeline'  =   Unknown reference type 'pars-processimagerl2pipeline'\r\n",
      "2020-10-09 17:22:36,141 - stpipe.ProcessImagerL2Pipeline - INFO - ProcessImagerL2Pipeline instance created.\r\n",
      "2020-10-09 17:22:36,142 - stpipe.ProcessImagerL2Pipeline.bkg_subtract - INFO - BackgroundStep instance created.\r\n",
      "2020-10-09 17:22:36,143 - stpipe.ProcessImagerL2Pipeline.assign_wcs - INFO - AssignWcsStep instance created.\r\n",
      "2020-10-09 17:22:36,143 - stpipe.ProcessImagerL2Pipeline.parse_subarray_map - INFO - ParseSubarrayMapStep instance created.\r\n",
      "2020-10-09 17:22:36,144 - stpipe.ProcessImagerL2Pipeline.dark_current - INFO - DarkCurrentStep instance created.\r\n",
      "2020-10-09 17:22:36,145 - stpipe.ProcessImagerL2Pipeline.flat_field - INFO - FlatFieldStep instance created.\r\n",
      "2020-10-09 17:22:36,158 - stpipe.ProcessImagerL2Pipeline.photom - INFO - PhotomStep instance created.\r\n",
      "2020-10-09 17:22:36,159 - stpipe.ProcessImagerL2Pipeline.resample - INFO - ResampleStep instance created.\r\n",
      "2020-10-09 17:22:36,159 - stpipe - INFO - Hostname: fv-az58\r\n",
      "2020-10-09 17:22:36,159 - stpipe - INFO - OS: Linux\r\n"
     ]
    },
    {
     "name": "stdout",
     "output_type": "stream",
     "text": [
      "2020-10-09 17:22:36,217 - stpipe.ProcessImagerL2Pipeline - INFO - Step ProcessImagerL2Pipeline running with args ('association.json',).\r\n"
     ]
    },
    {
     "name": "stdout",
     "output_type": "stream",
     "text": [
      "2020-10-09 17:22:36,222 - stpipe.ProcessImagerL2Pipeline - INFO - Step ProcessImagerL2Pipeline parameters are: {'pre_hooks': [], 'post_hooks': [], 'output_file': None, 'output_dir': None, 'output_ext': '.fits', 'output_use_model': False, 'output_use_index': True, 'save_results': True, 'skip': False, 'suffix': None, 'search_output_file': True, 'input_dir': '', 'save_bsub': False, 'steps': {'bkg_subtract': {'pre_hooks': [], 'post_hooks': [], 'output_file': None, 'output_dir': None, 'output_ext': '.fits', 'output_use_model': False, 'output_use_index': True, 'save_results': False, 'skip': False, 'suffix': None, 'search_output_file': True, 'input_dir': '', 'sigma': 3.0, 'maxiters': None}, 'assign_wcs': {'pre_hooks': [], 'post_hooks': [], 'output_file': None, 'output_dir': None, 'output_ext': '.fits', 'output_use_model': False, 'output_use_index': True, 'save_results': False, 'skip': True, 'suffix': None, 'search_output_file': True, 'input_dir': '', 'slit_y_low': -0.55, 'slit_y_high': 0.55}, 'parse_subarray_map': {'pre_hooks': [], 'post_hooks': [], 'output_file': None, 'output_dir': None, 'output_ext': '.fits', 'output_use_model': False, 'output_use_index': True, 'save_results': False, 'skip': False, 'suffix': None, 'search_output_file': True, 'input_dir': ''}, 'dark_current': {'pre_hooks': [], 'post_hooks': [], 'output_file': None, 'output_dir': None, 'output_ext': '.fits', 'output_use_model': False, 'output_use_index': True, 'save_results': False, 'skip': False, 'suffix': None, 'search_output_file': True, 'input_dir': '', 'dark_output': None}, 'flat_field': {'pre_hooks': [], 'post_hooks': [], 'output_file': None, 'output_dir': None, 'output_ext': '.fits', 'output_use_model': False, 'output_use_index': True, 'save_results': False, 'skip': False, 'suffix': None, 'search_output_file': True, 'input_dir': ''}, 'photom': {'pre_hooks': [], 'post_hooks': [], 'output_file': None, 'output_dir': None, 'output_ext': '.fits', 'output_use_model': False, 'output_use_index': True, 'save_results': False, 'skip': True, 'suffix': None, 'search_output_file': True, 'input_dir': ''}, 'resample': {'pre_hooks': [], 'post_hooks': [], 'output_file': None, 'output_dir': None, 'output_ext': '.fits', 'output_use_model': False, 'output_use_index': True, 'save_results': False, 'skip': True, 'suffix': None, 'search_output_file': True, 'input_dir': '', 'pixfrac': 1.0, 'kernel': 'square', 'fillval': 'INDEF', 'weight_type': 'exptime', 'single': False, 'blendheaders': True}}}\r\n"
     ]
    },
    {
     "name": "stdout",
     "output_type": "stream",
     "text": [
      "2020-10-09 17:22:36,464 - stpipe.ProcessImagerL2Pipeline - INFO - Prefetching reference files for dataset: 'raw_science_frame_sci.fits' reftypes = ['dark']\r\n",
      "2020-10-09 17:22:36,471 - stpipe.ProcessImagerL2Pipeline - INFO - Prefetch for DARK reference file is '/home/runner/crds_cache/references/tmt/iris/tmt_iris_dark_0001.fits'.\r\n",
      "2020-10-09 17:22:36,471 - stpipe.ProcessImagerL2Pipeline - INFO - Override for FLAT reference file is '/tmp/tmpe4xwe12_/29e13c55bf78a0195dc238e160209fc89ba5a0da/docs/raw_flat_frame_flat.fits'.\r\n",
      "2020-10-09 17:22:36,472 - stpipe.ProcessImagerL2Pipeline - INFO - Starting calwebb_image2 ...\r\n"
     ]
    },
    {
     "name": "stdout",
     "output_type": "stream",
     "text": [
      "2020-10-09 17:22:36,480 - stpipe.ProcessImagerL2Pipeline - INFO - Processing product test_iris_subtract_bg_flat\r\n",
      "2020-10-09 17:22:36,480 - stpipe.ProcessImagerL2Pipeline - INFO - Working on input iris_example_data/raw_science_frame_sci.fits ...\r\n"
     ]
    },
    {
     "name": "stdout",
     "output_type": "stream",
     "text": [
      "2020-10-09 17:22:36,743 - stpipe.ProcessImagerL2Pipeline.bkg_subtract - INFO - Step bkg_subtract running with args (<IRISImageModel(4096, 4096) from raw_science_frame_sci.fits>, ['iris_example_data/raw_background_frame_cal.fits']).\r\n",
      "2020-10-09 17:22:36,744 - stpipe.ProcessImagerL2Pipeline.bkg_subtract - INFO - Step bkg_subtract parameters are: {'pre_hooks': [], 'post_hooks': [], 'output_file': None, 'output_dir': None, 'output_ext': '.fits', 'output_use_model': False, 'output_use_index': True, 'save_results': False, 'skip': False, 'suffix': 'bsub', 'search_output_file': True, 'input_dir': '', 'sigma': 3.0, 'maxiters': None}\r\n"
     ]
    },
    {
     "name": "stdout",
     "output_type": "stream",
     "text": [
      "2020-10-09 17:22:46,680 - stpipe.ProcessImagerL2Pipeline.bkg_subtract - INFO - Step bkg_subtract done\r\n"
     ]
    },
    {
     "name": "stdout",
     "output_type": "stream",
     "text": [
      "2020-10-09 17:22:46,724 - stpipe.ProcessImagerL2Pipeline.assign_wcs - INFO - Step assign_wcs running with args (<IRISImageModel(4096, 4096) from raw_science_frame_sci.fits>,).\r\n",
      "2020-10-09 17:22:46,725 - stpipe.ProcessImagerL2Pipeline.assign_wcs - INFO - Step assign_wcs parameters are: {'pre_hooks': [], 'post_hooks': [], 'output_file': None, 'output_dir': None, 'output_ext': '.fits', 'output_use_model': False, 'output_use_index': True, 'save_results': False, 'skip': True, 'suffix': None, 'search_output_file': True, 'input_dir': '', 'slit_y_low': -0.55, 'slit_y_high': 0.55}\r\n",
      "2020-10-09 17:22:46,725 - stpipe.ProcessImagerL2Pipeline.assign_wcs - INFO - Step skipped.\r\n",
      "2020-10-09 17:22:46,725 - stpipe.ProcessImagerL2Pipeline.assign_wcs - INFO - Step assign_wcs done\r\n"
     ]
    },
    {
     "name": "stdout",
     "output_type": "stream",
     "text": [
      "2020-10-09 17:22:46,750 - stpipe.ProcessImagerL2Pipeline.parse_subarray_map - INFO - Step parse_subarray_map running with args (<IRISImageModel(4096, 4096) from raw_science_frame_sci.fits>,).\r\n",
      "2020-10-09 17:22:46,751 - stpipe.ProcessImagerL2Pipeline.parse_subarray_map - INFO - Step parse_subarray_map parameters are: {'pre_hooks': [], 'post_hooks': [], 'output_file': None, 'output_dir': None, 'output_ext': '.fits', 'output_use_model': False, 'output_use_index': True, 'save_results': False, 'skip': False, 'suffix': None, 'search_output_file': True, 'input_dir': ''}\r\n",
      "2020-10-09 17:22:46,762 - stpipe.ProcessImagerL2Pipeline.parse_subarray_map - INFO - No SUBARR_MAP extension found\r\n",
      "2020-10-09 17:22:46,762 - stpipe.ProcessImagerL2Pipeline.parse_subarray_map - INFO - Step parse_subarray_map done\r\n"
     ]
    },
    {
     "name": "stdout",
     "output_type": "stream",
     "text": [
      "2020-10-09 17:22:46,785 - stpipe.ProcessImagerL2Pipeline.dark_current - INFO - Step dark_current running with args (<IRISImageModel(4096, 4096) from raw_science_frame_sci.fits>,).\r\n",
      "2020-10-09 17:22:46,786 - stpipe.ProcessImagerL2Pipeline.dark_current - INFO - Step dark_current parameters are: {'pre_hooks': [], 'post_hooks': [], 'output_file': None, 'output_dir': None, 'output_ext': '.fits', 'output_use_model': False, 'output_use_index': True, 'save_results': False, 'skip': False, 'suffix': None, 'search_output_file': True, 'input_dir': '', 'dark_output': None}\r\n",
      "2020-10-09 17:22:46,805 - stpipe.ProcessImagerL2Pipeline.dark_current - INFO - Using DARK reference file /home/runner/crds_cache/references/tmt/iris/tmt_iris_dark_0001.fits\r\n"
     ]
    },
    {
     "name": "stdout",
     "output_type": "stream",
     "text": [
      "2020-10-09 17:22:47,174 - stpipe.ProcessImagerL2Pipeline.dark_current - INFO - Step dark_current done\r\n"
     ]
    },
    {
     "name": "stdout",
     "output_type": "stream",
     "text": [
      "2020-10-09 17:22:47,214 - stpipe.ProcessImagerL2Pipeline.flat_field - INFO - Step flat_field running with args (<IRISImageModel(4096, 4096) from raw_science_frame_sci.fits>,).\r\n",
      "2020-10-09 17:22:47,215 - stpipe.ProcessImagerL2Pipeline.flat_field - INFO - Step flat_field parameters are: {'pre_hooks': [], 'post_hooks': [], 'output_file': None, 'output_dir': None, 'output_ext': '.fits', 'output_use_model': False, 'output_use_index': True, 'save_results': False, 'skip': False, 'suffix': None, 'search_output_file': True, 'input_dir': ''}\r\n"
     ]
    },
    {
     "name": "stdout",
     "output_type": "stream",
     "text": [
      "2020-10-09 17:22:47,887 - stpipe.ProcessImagerL2Pipeline.flat_field - INFO - Step flat_field done\r\n"
     ]
    },
    {
     "name": "stdout",
     "output_type": "stream",
     "text": [
      "2020-10-09 17:22:47,926 - stpipe.ProcessImagerL2Pipeline.photom - INFO - Step photom running with args (<IRISImageModel(4096, 4096) from raw_science_frame_sci.fits>,).\r\n",
      "2020-10-09 17:22:47,927 - stpipe.ProcessImagerL2Pipeline.photom - INFO - Step photom parameters are: {'pre_hooks': [], 'post_hooks': [], 'output_file': None, 'output_dir': None, 'output_ext': '.fits', 'output_use_model': False, 'output_use_index': True, 'save_results': False, 'skip': True, 'suffix': None, 'search_output_file': True, 'input_dir': ''}\r\n",
      "2020-10-09 17:22:47,927 - stpipe.ProcessImagerL2Pipeline.photom - INFO - Step skipped.\r\n",
      "2020-10-09 17:22:47,927 - stpipe.ProcessImagerL2Pipeline.photom - INFO - Step photom done\r\n",
      "2020-10-09 17:22:47,927 - stpipe.ProcessImagerL2Pipeline - INFO - Finished processing product test_iris_subtract_bg_flat\r\n",
      "2020-10-09 17:22:47,928 - stpipe.ProcessImagerL2Pipeline - INFO - ... ending calwebb_image2\r\n"
     ]
    },
    {
     "name": "stdout",
     "output_type": "stream",
     "text": [
      "2020-10-09 17:22:48,257 - stpipe.ProcessImagerL2Pipeline - INFO - Saved model in test_iris_subtract_bg_flat_cal.fits\r\n",
      "2020-10-09 17:22:48,257 - stpipe.ProcessImagerL2Pipeline - INFO - Step ProcessImagerL2Pipeline done\r\n"
     ]
    }
   ],
   "source": [
    "!tmtrun image2_iris.cfg association.json"
   ]
  },
  {
   "cell_type": "markdown",
   "metadata": {},
   "source": [
    "## Plot the reduced frame\n",
    "\n",
    "Finally we can use `iris_pipeline` to load the data and plot them:"
   ]
  },
  {
   "cell_type": "code",
   "execution_count": 9,
   "metadata": {
    "execution": {
     "iopub.execute_input": "2020-10-09T17:22:48.503759Z",
     "iopub.status.busy": "2020-10-09T17:22:48.503269Z",
     "iopub.status.idle": "2020-10-09T17:22:51.510993Z",
     "shell.execute_reply": "2020-10-09T17:22:51.510339Z"
    }
   },
   "outputs": [
    {
     "data": {
      "image/png": "[encoded data removed]",
      "text/plain": [
       "<Figure size 432x288 with 1 Axes>"
      ]
     },
     "metadata": {
      "needs_background": "light"
     },
     "output_type": "display_data"
    }
   ],
   "source": [
    "import iris_pipeline\n",
    "reduced_science_frame = iris_pipeline.datamodels.IRISImageModel(\"test_iris_subtract_bg_flat_cal.fits\")\n",
    "try:    \n",
    "    %matplotlib inline\n",
    "    import matplotlib.pyplot as plt\n",
    "    plt.figure()\n",
    "    plt.imshow(reduced_science_frame.data, vmin=0, vmax=1500)\n",
    "    plt.title(\"Processed frame\")\n",
    "\n",
    "except ImportError:\n",
    "    pass"
   ]
  },
  {
   "cell_type": "code",
   "execution_count": 10,
   "metadata": {
    "execution": {
     "iopub.execute_input": "2020-10-09T17:22:51.578254Z",
     "iopub.status.busy": "2020-10-09T17:22:51.570261Z",
     "iopub.status.idle": "2020-10-09T17:22:51.723028Z",
     "shell.execute_reply": "2020-10-09T17:22:51.724345Z"
    }
   },
   "outputs": [],
   "source": [
    "!rm image2_iris.cfg association.json flat_field.cfg"
   ]
  }
 ],
 "metadata": {
  "kernelspec": {
   "display_name": "Python [conda env:jwst_dev]",
   "language": "python",
   "name": "conda-env-jwst_dev-py"
  },
  "language_info": {
   "codemirror_mode": {
    "name": "ipython",
    "version": 3
   },
   "file_extension": ".py",
   "mimetype": "text/x-python",
   "name": "python",
   "nbconvert_exporter": "python",
   "pygments_lexer": "ipython3",
   "version": "3.6.12"
  }
 },
 "nbformat": 4,
 "nbformat_minor": 4
}
